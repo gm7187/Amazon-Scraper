{
 "cells": [
  {
   "cell_type": "markdown",
   "id": "a184ac3c",
   "metadata": {},
   "source": [
    "# Scrape Amazon items Detail\n",
    "\n",
    "- Technologies:  Requests, Beautifulsoup, Pandas, ExcelWriter, sqlite3"
   ]
  },
  {
   "cell_type": "code",
   "execution_count": null,
   "id": "a08fcf06",
   "metadata": {},
   "outputs": [],
   "source": [
    "from bs4 import BeautifulSoup\n",
    "import requests\n",
    "from pandas import ExcelWriter\n",
    "import pandas as pd\n",
    "import sqlite3\n",
    "  \n",
    "\n",
    "HEADERS = {'User-Agent':'Mozilla/5.0 (X11; Linux x86_64) AppleWebKit/537.36 (KHTML, like Gecko) Chrome/92.0.4515.107 Safari/537.36','Accept-Language': 'en-US, en;q=0.5'}\n",
    "url='https://www.amazon.in/s?k=5g+mobile+phones+latest&crid=3A0EDR3F2S3HL&sprefix=mobil%2Caps%2C352&ref=nb_sb_ss_ts-doa-p_2_5'\n",
    "webpage = requests.get(url, headers=HEADERS)\n",
    "soup = BeautifulSoup(webpage.content, \"lxml\")"
   ]
  },
  {
   "cell_type": "code",
   "execution_count": null,
   "id": "cc46a32c",
   "metadata": {},
   "outputs": [],
   "source": [
    "data_asins=soup.find_all('div',{'data-index':True})\n",
    "url='https://www.amazon.in/gp/product/'\n",
    "asin_list=[]\n",
    "for asin in data_asins:\n",
    "    if asin['data-asin'] != '':\n",
    "        asin_list.append(url + asin['data-asin'])\n",
    "asin_list\n",
    "len(asin_list)"
   ]
  },
  {
   "cell_type": "code",
   "execution_count": null,
   "id": "cd40f9bf",
   "metadata": {},
   "outputs": [],
   "source": [
    "def get_mobile_webpage(url):\n",
    "    webpage = requests.get(url, headers=HEADERS)\n",
    "    soup = BeautifulSoup(webpage.content, \"lxml\")\n",
    "    return soup\n",
    "    "
   ]
  },
  {
   "cell_type": "code",
   "execution_count": null,
   "id": "1d792667",
   "metadata": {},
   "outputs": [],
   "source": [
    "def get_mobile_detail(mobile_url):\n",
    "    soup=get_mobile_webpage(mobile_url)\n",
    "    mobile_title=soup.find('h1',{'id':'title'})\n",
    "    title=mobile_title.text.strip()[:12]\n",
    "    \n",
    "    mobile_price=soup.find('td',{'class':'a-span12'})\n",
    "    price=mobile_price.text.strip()\n",
    "    \n",
    "    \n",
    "    mobile_imgs=soup.find('div',{'id':'imgTagWrapperId'})\n",
    "    imgurl=mobile_imgs.img['src']\n",
    "    \n",
    "    \n",
    "        \n",
    "    return title,price,imgurl"
   ]
  },
  {
   "cell_type": "code",
   "execution_count": null,
   "id": "baac932d",
   "metadata": {},
   "outputs": [],
   "source": [
    "get_mobile_detail(asin_list[6])"
   ]
  },
  {
   "cell_type": "code",
   "execution_count": null,
   "id": "65288cdb",
   "metadata": {},
   "outputs": [],
   "source": [
    "def get_allMobiles():\n",
    "    mobile_dict ={ \n",
    "        'ProductLinks': asin_list,     \n",
    "        'Title':[][:17],\n",
    "                 'Price': [],\n",
    "            'ImageLinks': [],\n",
    "           }\n",
    "\n",
    "    # Get repo info\n",
    "    for i in range(22):\n",
    "        mobile_info = get_mobile_detail(asin_list[i])\n",
    "        mobile_dict['Title'].append(mobile_info[0])\n",
    "        mobile_dict['Price'].append(mobile_info[1])\n",
    "        mobile_dict['ImageLinks'].append(mobile_info[2])\n",
    "        \n",
    "    return pd.DataFrame(mobile_dict)"
   ]
  },
  {
   "cell_type": "markdown",
   "id": "b515dd51",
   "metadata": {},
   "source": [
    "## Saving to ExcelSheet"
   ]
  },
  {
   "cell_type": "code",
   "execution_count": null,
   "id": "326e8ae7",
   "metadata": {},
   "outputs": [],
   "source": [
    "writer = ExcelWriter('AmazonProducts.xlsx')\n",
    "get_allMobiles().to_excel(writer,'Sheet5')\n",
    "writer.save()"
   ]
  },
  {
   "cell_type": "markdown",
   "id": "82aa3cf2",
   "metadata": {},
   "source": [
    "## Saving to Database"
   ]
  },
  {
   "cell_type": "code",
   "execution_count": null,
   "id": "622073aa",
   "metadata": {},
   "outputs": [],
   "source": [
    "conn = sqlite3.connect('mobilesDb.db')\n",
    "c = conn.cursor()\n",
    "c.execute('''CREATE TABLE Mobiles( ProductLinks TEXT, Title TEXT, Price TEXT, ImageLinks TEXT )''')\n",
    "data=get_allMobiles()\n",
    "data.to_sql('SA', conn, if_exists='replace', index=False) # - writes the pd.df to SQLIte DB\n",
    "pd.read_sql('select * from Mobiles', conn)\n",
    "conn.commit()\n",
    "conn.close()"
   ]
  },
  {
   "cell_type": "markdown",
   "id": "c577bd02",
   "metadata": {},
   "source": [
    "# Scraping Hidden/Data-asin Elements From Cart\n",
    "\n",
    "- we can scrape product-detail from www.amazon.in using BeautifulSoup, but not from its cart yet!\n",
    "\n",
    "- I have found some old Techniques to scrape data-asin elements with Beautifulsoup, but these are not working due to amazon updated privacy\n",
    "\n",
    "- we can get data-asin elements by an API and use them to scrape detail\n",
    "\n",
    "- we can Scrape detail using selenium-Webdriver, as u know i am not familiar with it, but i try to scrape detail with selenium, i will show u code in my task "
   ]
  },
  {
   "cell_type": "markdown",
   "id": "8d622f44",
   "metadata": {},
   "source": [
    "### Old  BeautifulSoup  Techniques"
   ]
  },
  {
   "cell_type": "markdown",
   "id": "5f447aee",
   "metadata": {},
   "source": [
    "##### Technique 1\n",
    "\n",
    "- Using BeautifulSoup, selenium-Webdriver and requests"
   ]
  },
  {
   "cell_type": "code",
   "execution_count": null,
   "id": "11b996e2",
   "metadata": {},
   "outputs": [],
   "source": [
    "import requests\n",
    "from bs4 import BeautifulSoup\n",
    "from selenium import webdriver\n",
    "\n",
    "driver=webdriver.Chrome('C://Windows/chromedriver.exe')\n",
    "url='https://www.amazon.com/gp/cart/view.html?ref_=nav_cart'\n",
    "driver.get(url)\n",
    "soup=BeautifulSoup(driver.page_source,'html.parser')\n",
    "# print(soup.prettify())"
   ]
  },
  {
   "cell_type": "markdown",
   "id": "e001d1b3",
   "metadata": {},
   "source": [
    "##### Technique 2\n",
    "\n",
    "- Using requests_html and time"
   ]
  },
  {
   "cell_type": "code",
   "execution_count": null,
   "id": "8be7f68a",
   "metadata": {},
   "outputs": [],
   "source": [
    "from requests_html import HTMLSession\n",
    "import time\n",
    "\n",
    "s = HTMLSession()\n",
    "url = 'https://barefootbuttons.com/product-category/version-1/'\n",
    "r = s.get(url)\n",
    "items = r.html.find('div.product-small.box')"
   ]
  },
  {
   "cell_type": "markdown",
   "id": "d69a70b7",
   "metadata": {},
   "source": [
    "### Scrape Amazon Products using Selenium"
   ]
  },
  {
   "cell_type": "code",
   "execution_count": null,
   "id": "8147093e",
   "metadata": {},
   "outputs": [],
   "source": [
    "from selenium import webdriver\n",
    "from time import sleep\n",
    "\n",
    "path = 'C://chromedriver.exe'\n",
    "browser = webdriver.Chrome(executable_path=path)\n",
    "browser.get('https://www.amazon.in')\n",
    "browser.maximize_window()\n",
    "\n",
    "input_search = browser.find_element_by_id('twotabsearchtextbox')\n",
    "search_button = browser.find_element_by_xpath(\"(//input[@type='submit'])[1]\")\n",
    "\n",
    "input_search.send_keys(\"Smartphones under 10000\")\n",
    "sleep(1)\n",
    "search_button.click()\n",
    "\n",
    "products = []\n",
    "for i in range(10):\n",
    "    print('Scraping page', i+1)\n",
    "    product = browser.find_elements_by_xpath(\"//span[@class='a-size-medium a-color-base a-text-normal']\")\n",
    "    for p in product:\n",
    "        products.append(p.text)\n",
    "    next_button = browser.find_element_by_xpath(\"//li[@class='a-last']\")\n",
    "    next_button.click()\n",
    "    sleep(2)\n",
    "    \n",
    "\n",
    "brower.quit()"
   ]
  }
 ],
 "metadata": {
  "kernelspec": {
   "display_name": "Python 3",
   "language": "python",
   "name": "python3"
  },
  "language_info": {
   "codemirror_mode": {
    "name": "ipython",
    "version": 3
   },
   "file_extension": ".py",
   "mimetype": "text/x-python",
   "name": "python",
   "nbconvert_exporter": "python",
   "pygments_lexer": "ipython3",
   "version": "3.8.10"
  }
 },
 "nbformat": 4,
 "nbformat_minor": 5
}
